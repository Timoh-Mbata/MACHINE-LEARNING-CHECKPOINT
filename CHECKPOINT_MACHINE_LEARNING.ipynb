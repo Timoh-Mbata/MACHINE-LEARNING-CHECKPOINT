{
  "nbformat": 4,
  "nbformat_minor": 0,
  "metadata": {
    "colab": {
      "provenance": [],
      "toc_visible": true,
      "gpuType": "T4",
      "authorship_tag": "ABX9TyM1Q7OEunqOpFUF+RZOJCl8",
      "include_colab_link": true
    },
    "kernelspec": {
      "name": "python3",
      "display_name": "Python 3"
    },
    "language_info": {
      "name": "python"
    },
    "accelerator": "GPU"
  },
  "cells": [
    {
      "cell_type": "markdown",
      "metadata": {
        "id": "view-in-github",
        "colab_type": "text"
      },
      "source": [
        "<a href=\"https://colab.research.google.com/github/Timoh-Mbata/MACHINE-LEARNING-CHECKPOINT/blob/main/CHECKPOINT_MACHINE_LEARNING.ipynb\" target=\"_parent\"><img src=\"https://colab.research.google.com/assets/colab-badge.svg\" alt=\"Open In Colab\"/></a>"
      ]
    },
    {
      "cell_type": "code",
      "source": [
        "! pip install ydata-profiling"
      ],
      "metadata": {
        "collapsed": true,
        "id": "xHkO9LlM_NeT"
      },
      "execution_count": null,
      "outputs": []
    },
    {
      "cell_type": "code",
      "execution_count": null,
      "metadata": {
        "id": "VETRQso0_Kea"
      },
      "outputs": [],
      "source": [
        "import pandas as pd\n",
        "import numpy as np\n",
        "import matplotlib.pyplot as plt\n",
        "import seaborn as sns\n",
        "%matplotlib inline\n",
        "plt.rcParams['figure.figsize'] = (8,6)\n",
        "import warnings\n",
        "warnings.filterwarnings(action='ignore')\n",
        "import re\n",
        "from ydata_profiling import ProfileReport"
      ]
    },
    {
      "cell_type": "code",
      "source": [
        "from sklearn.model_selection import train_test_split,GridSearchCV,StratifiedGroupKFold\n",
        "from sklearn.linear_model import LogisticRegressionCV,Lasso,Ridge\n",
        "from sklearn.ensemble import RandomForestClassifier\n",
        "from sklearn.decomposition import PCA\n",
        "from sklearn.tree import DecisionTreeClassifier\n",
        "from sklearn.svm import SVC\n",
        "import tensorflow\n",
        "from tensorflow import keras"
      ],
      "metadata": {
        "id": "xRLcj5xu_ozE"
      },
      "execution_count": null,
      "outputs": []
    },
    {
      "cell_type": "code",
      "source": [],
      "metadata": {
        "id": "NGv670k3EqZ0"
      },
      "execution_count": null,
      "outputs": []
    },
    {
      "cell_type": "markdown",
      "source": [
        "# DATA PREPROCESSING"
      ],
      "metadata": {
        "id": "0-H__ntuEseE"
      }
    },
    {
      "cell_type": "code",
      "source": [
        "dataset = pd.read_csv(r'/content/Microsoft_malware_dataset_min.csv')\n",
        "print(f'\\n {dataset.sample(3)}')\n",
        "print('\\n the tail')\n",
        "print(f'\\n {dataset.tail(3)}')"
      ],
      "metadata": {
        "collapsed": true,
        "id": "7YWdvzSsAMRu"
      },
      "execution_count": null,
      "outputs": []
    },
    {
      "cell_type": "code",
      "source": [
        "print('the dataset columns')\n",
        "dataset.columns"
      ],
      "metadata": {
        "id": "_t9wsDSQAkLv"
      },
      "execution_count": null,
      "outputs": []
    },
    {
      "cell_type": "code",
      "source": [
        "dataset.isnull().sum()"
      ],
      "metadata": {
        "collapsed": true,
        "id": "vU3j1YaJAyqN"
      },
      "execution_count": null,
      "outputs": []
    },
    {
      "cell_type": "code",
      "source": [
        "dataset.dtypes"
      ],
      "metadata": {
        "collapsed": true,
        "id": "Ct7bK_BhA0iN"
      },
      "execution_count": null,
      "outputs": []
    },
    {
      "cell_type": "code",
      "source": [
        "corr = dataset.select_dtypes(include=['int','float']).corr()\n",
        "sns.heatmap(corr,annot=True)\n",
        "plt.show()"
      ],
      "metadata": {
        "collapsed": true,
        "id": "eyTFZDkFA3Jw"
      },
      "execution_count": null,
      "outputs": []
    },
    {
      "cell_type": "code",
      "source": [
        "dataset.info()"
      ],
      "metadata": {
        "collapsed": true,
        "id": "6Lx6w0BKA4tO"
      },
      "execution_count": null,
      "outputs": []
    },
    {
      "cell_type": "code",
      "source": [
        "dataset.describe()"
      ],
      "metadata": {
        "collapsed": true,
        "id": "0grpNBfxA7Z-"
      },
      "execution_count": null,
      "outputs": []
    },
    {
      "cell_type": "code",
      "source": [
        "sns.pairplot(dataset)"
      ],
      "metadata": {
        "collapsed": true,
        "id": "b59NoNTxA9Xt"
      },
      "execution_count": null,
      "outputs": []
    },
    {
      "cell_type": "code",
      "source": [],
      "metadata": {
        "id": "MHKl1-HeFE1_"
      },
      "execution_count": null,
      "outputs": []
    },
    {
      "cell_type": "markdown",
      "source": [
        "# Handling imputations"
      ],
      "metadata": {
        "id": "AbLkI0naFFa4"
      }
    },
    {
      "cell_type": "code",
      "source": [
        "dataset.isnull().sum()"
      ],
      "metadata": {
        "id": "3m8CRF46BImE"
      },
      "execution_count": null,
      "outputs": []
    },
    {
      "cell_type": "code",
      "source": [
        "dataset.IsProtected.value_counts()"
      ],
      "metadata": {
        "collapsed": true,
        "id": "KQ8DTBwRBvGh"
      },
      "execution_count": null,
      "outputs": []
    },
    {
      "cell_type": "code",
      "source": [
        "# we are going to perform a foward fill on the column because the destrict values are 0 and 1\n",
        "dataset['IsProtected'] = dataset['IsProtected'].ffill(axis=0)"
      ],
      "metadata": {
        "id": "kMfWSmPMBw49"
      },
      "execution_count": null,
      "outputs": []
    },
    {
      "cell_type": "code",
      "source": [
        "dataset['IsProtected'].ffill(axis=0)"
      ],
      "metadata": {
        "collapsed": true,
        "id": "2mo2po2eBzJK"
      },
      "execution_count": null,
      "outputs": []
    },
    {
      "cell_type": "code",
      "source": [
        "dataset.SMode.value_counts()"
      ],
      "metadata": {
        "id": "MqcljjxPB0-O"
      },
      "execution_count": null,
      "outputs": []
    },
    {
      "cell_type": "code",
      "source": [
        "dataset[dataset['SMode']==1]"
      ],
      "metadata": {
        "collapsed": true,
        "id": "E-JSn80hB3Rl"
      },
      "execution_count": null,
      "outputs": []
    },
    {
      "cell_type": "code",
      "source": [
        "# conclusion you realise that when Firewall is 0 , Census_HasOpticalDiskDrive is 0 and is protected = 0 the Smode is 1;\n",
        "dataset.loc[\n",
        "    (dataset['Firewall'] == 0) &\n",
        "    (dataset['Census_HasOpticalDiskDrive'] == 0) &\n",
        "    (dataset['IsProtected'] == 0) &\n",
        "    (dataset['SMode'].isnull()),  # check for NaN\n",
        "    'SMode'\n",
        "] = 1  # filling the null values with 1"
      ],
      "metadata": {
        "id": "R4uvYJn7B6Bm"
      },
      "execution_count": null,
      "outputs": []
    },
    {
      "cell_type": "code",
      "source": [
        "dataset['SMode'].fillna(0,axis=0,inplace=True)"
      ],
      "metadata": {
        "id": "9npoxrOSB9od"
      },
      "execution_count": null,
      "outputs": []
    },
    {
      "cell_type": "code",
      "source": [
        "dataset.Census_IsVirtualDevice.value_counts()"
      ],
      "metadata": {
        "id": "FaXcACVBCBGN"
      },
      "execution_count": null,
      "outputs": []
    },
    {
      "cell_type": "code",
      "source": [
        "dataset[dataset['Census_IsVirtualDevice']==1].sample(50)"
      ],
      "metadata": {
        "collapsed": true,
        "id": "yZFQIlJVCFU7"
      },
      "execution_count": null,
      "outputs": []
    },
    {
      "cell_type": "code",
      "source": [
        "dataset.loc[\n",
        "(dataset['SMode']==0) &\n",
        "(dataset['Census_IsVirtualDevice'].isnull()),\n",
        "'Census_IsVirtualDevice'\n",
        "] = 0"
      ],
      "metadata": {
        "id": "GQ9_X6XTCK0b"
      },
      "execution_count": null,
      "outputs": []
    },
    {
      "cell_type": "code",
      "source": [
        "dataset.Census_IsVirtualDevice.fillna(1,axis=0,inplace=True)"
      ],
      "metadata": {
        "id": "_QP5eZXpCTom"
      },
      "execution_count": null,
      "outputs": []
    },
    {
      "cell_type": "code",
      "source": [
        "dataset.Firewall.value_counts()"
      ],
      "metadata": {
        "id": "VY2HqK4ICeVU"
      },
      "execution_count": null,
      "outputs": []
    },
    {
      "cell_type": "code",
      "source": [
        "dataset['Firewall'].ffill(axis=0,inplace=True)"
      ],
      "metadata": {
        "id": "v4Auax90DYqO"
      },
      "execution_count": null,
      "outputs": []
    },
    {
      "cell_type": "code",
      "source": [
        "dataset['Wdft_IsGamer'].ffill(axis=0,inplace=True)"
      ],
      "metadata": {
        "id": "Ukwm6pGPCiIY"
      },
      "execution_count": null,
      "outputs": []
    },
    {
      "cell_type": "code",
      "source": [
        "dataset['Wdft_IsGamer'].ffill(axis=0,inplace=True)"
      ],
      "metadata": {
        "id": "hHD4DIhpColO"
      },
      "execution_count": null,
      "outputs": []
    },
    {
      "cell_type": "code",
      "source": [
        "report = ProfileReport(dataset)\n",
        "report"
      ],
      "metadata": {
        "collapsed": true,
        "id": "7H2tsTdMCubZ"
      },
      "execution_count": null,
      "outputs": []
    },
    {
      "cell_type": "code",
      "source": [
        "dataset.shape"
      ],
      "metadata": {
        "id": "4hcN55roCxew"
      },
      "execution_count": null,
      "outputs": []
    },
    {
      "cell_type": "code",
      "source": [
        "dataset.drop_duplicates(inplace=True)"
      ],
      "metadata": {
        "id": "RRbCtsq-CzOJ"
      },
      "execution_count": null,
      "outputs": []
    },
    {
      "cell_type": "code",
      "source": [
        "dataset.shape"
      ],
      "metadata": {
        "id": "hhHVwSmnC0ck"
      },
      "execution_count": null,
      "outputs": []
    },
    {
      "cell_type": "code",
      "source": [
        "dataset.isnull().sum()"
      ],
      "metadata": {
        "collapsed": true,
        "id": "GnhPIYDGDLW-"
      },
      "execution_count": null,
      "outputs": []
    },
    {
      "cell_type": "code",
      "source": [
        "dataset.columns"
      ],
      "metadata": {
        "id": "zLKNUVDmDh9N"
      },
      "execution_count": null,
      "outputs": []
    },
    {
      "cell_type": "code",
      "source": [
        "dataset.dtypes"
      ],
      "metadata": {
        "collapsed": true,
        "id": "6z9MKjr4Dwuo"
      },
      "execution_count": null,
      "outputs": []
    },
    {
      "cell_type": "code",
      "source": [
        "dataset.Census_OSEdition.nunique()"
      ],
      "metadata": {
        "collapsed": true,
        "id": "WfjFEmpSDyJz"
      },
      "execution_count": null,
      "outputs": []
    },
    {
      "cell_type": "code",
      "source": [
        "dataset.OsPlatformSubRelease.unique()"
      ],
      "metadata": {
        "collapsed": true,
        "id": "B9VTD5pmDzVA"
      },
      "execution_count": null,
      "outputs": []
    },
    {
      "cell_type": "code",
      "source": [],
      "metadata": {
        "id": "E2lAqjTwGUoo"
      },
      "execution_count": null,
      "outputs": []
    },
    {
      "cell_type": "markdown",
      "source": [
        "# FEATURE SELECTION"
      ],
      "metadata": {
        "id": "CCD9UdLrGVGq"
      }
    },
    {
      "cell_type": "code",
      "source": [
        "from sklearn.preprocessing import LabelEncoder\n",
        "le = LabelEncoder()\n",
        "dataset['OsPlatformSubRelease'] = le.fit_transform(dataset['OsPlatformSubRelease'])\n",
        "dataset['Census_OSEdition'] = le.fit_transform(dataset['Census_OSEdition'])"
      ],
      "metadata": {
        "id": "PtmcwvQvD0lY"
      },
      "execution_count": null,
      "outputs": []
    },
    {
      "cell_type": "code",
      "source": [
        "dataset.head(4)"
      ],
      "metadata": {
        "collapsed": true,
        "id": "Rx1JQAzGD2XZ"
      },
      "execution_count": null,
      "outputs": []
    },
    {
      "cell_type": "code",
      "source": [
        "x = dataset.drop(columns=['HasDetections'])\n",
        "y = dataset['HasDetections']"
      ],
      "metadata": {
        "id": "IIj44U5lD3w5"
      },
      "execution_count": null,
      "outputs": []
    },
    {
      "cell_type": "code",
      "source": [
        "X_train, X_test, y_train, y_test = train_test_split(x,y,test_size=0.33,random_state=42)"
      ],
      "metadata": {
        "id": "Pm16D0JzD5jy"
      },
      "execution_count": null,
      "outputs": []
    },
    {
      "cell_type": "markdown",
      "source": [
        "# MODEL BUILDING"
      ],
      "metadata": {
        "id": "POuGTCD7Gg4z"
      }
    },
    {
      "cell_type": "code",
      "source": [
        "model_params = {\n",
        "    'LOGISTIC_REGRESSORCV': {\n",
        "        'model': LogisticRegressionCV(),\n",
        "        'params': {\n",
        "            'random_state': [42],\n",
        "            'solver': ['liblinear', 'lbfgs'],\n",
        "            'Cs': [1, 10, 100]\n",
        "        }\n",
        "    },\n",
        "    'RANDOM_FORESTCV': {\n",
        "        'model': RandomForestClassifier(),\n",
        "        'params': {\n",
        "            'random_state': [42],\n",
        "            'n_estimators': [50, 100, 250, 1000],\n",
        "            'max_depth': [3, 6, 9]\n",
        "        }\n",
        "    },\n",
        "    'SUPPORT_VECTORSCV': {\n",
        "        'model': SVC(),\n",
        "        'params': {\n",
        "            'C': [1, 5, 10],\n",
        "            'kernel': ['rbf', 'linear'],\n",
        "            'gamma': ['scale', 'auto']\n",
        "        }\n",
        "    }\n",
        "}"
      ],
      "metadata": {
        "id": "hD10fzT7EYOJ"
      },
      "execution_count": null,
      "outputs": []
    },
    {
      "cell_type": "code",
      "source": [
        "score = []\n",
        "for model_name, model_info in model_params.items():\n",
        "    cv = GridSearchCV(model_info['model'], model_info['params'], cv=5, return_train_score=False)\n",
        "    cv.fit(X_train, y_train)\n",
        "    score.append({\n",
        "        'model': model_name,\n",
        "        'model_params': cv.best_params_,\n",
        "        'model_score': cv.best_score_\n",
        "    })\n",
        "pd.DataFrame(score)"
      ],
      "metadata": {
        "id": "1I3-vmboEbHH"
      },
      "execution_count": null,
      "outputs": []
    }
  ]
}